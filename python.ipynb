{
 "cells": [
  {
   "cell_type": "code",
   "execution_count": 5,
   "metadata": {},
   "outputs": [
    {
     "name": "stdout",
     "output_type": "stream",
     "text": [
      "{1: 'one', 2: 'two', 3: 'three'}\n"
     ]
    }
   ],
   "source": [
    "keys=[1,2,3]\n",
    "values=['one','two','three']\n",
    "dictionary = dict(zip(keys, values))\n",
    "print(dictionary)"
   ]
  },
  {
   "cell_type": "code",
   "execution_count": 6,
   "metadata": {},
   "outputs": [
    {
     "name": "stdout",
     "output_type": "stream",
     "text": [
      "three\n",
      "None\n",
      "0\n",
      "Invalid Key\n"
     ]
    }
   ],
   "source": [
    "dict1 = {1: 'one', 2: 'two', 3: 'three', 4: 'four', 5: 'five'}\n",
    "print(dict1.get(3))\n",
    "print(dict1.get(6))\n",
    "print(dict1.get(6, 0))\n",
    "print(dict1.get(6, 'Invalid Key'))"
   ]
  },
  {
   "cell_type": "code",
   "execution_count": 7,
   "metadata": {},
   "outputs": [
    {
     "name": "stdout",
     "output_type": "stream",
     "text": [
      "dict_items([(1, 'one'), (2, 'two'), (3, 'three'), (4, 'four'), (5, 'five')])\n",
      "dict_keys([1, 2, 3, 4, 5])\n",
      "dict_values(['one', 'two', 'three', 'four', 'five'])\n"
     ]
    }
   ],
   "source": [
    "dict1 = {1: 'one', 2: 'two', 3: 'three', 4: 'four', 5: 'five'}\n",
    "print(dict1.items())\n",
    "print(dict1.keys())\n",
    "print(dict1.values())"
   ]
  },
  {
   "cell_type": "code",
   "execution_count": 8,
   "metadata": {},
   "outputs": [
    {
     "name": "stdout",
     "output_type": "stream",
     "text": [
      "5\n",
      "5\n",
      "1\n",
      "[1, 2, 3, 4, 5]\n"
     ]
    }
   ],
   "source": [
    "\n",
    "dict1 = {1: 'one', 2: 'two', 3: 'three', 4: 'four', 5: 'five'}\n",
    "print(len(dict1))\n",
    "print(max(dict1))\n",
    "print(min(dict1))\n",
    "print(sorted(dict1))"
   ]
  },
  {
   "cell_type": "code",
   "execution_count": 11,
   "metadata": {},
   "outputs": [
    {
     "name": "stdout",
     "output_type": "stream",
     "text": [
      "Key is not present in the dictionary\n"
     ]
    }
   ],
   "source": [
    "dict1 = {1: 'one', 2: 'two', 3: 'three', 4: 'four', 5: 'five'}\n",
    "if 6 in dict1:\n",
    "    print('Key is present in the dictionary')\n",
    "else:\n",
    "    print('Key is not present in the dictionary')"
   ]
  },
  {
   "cell_type": "code",
   "execution_count": 12,
   "metadata": {},
   "outputs": [
    {
     "name": "stdout",
     "output_type": "stream",
     "text": [
      "{1, 2, 3, 4, 5} <class 'set'>\n",
      "123 Ram 55.5\n"
     ]
    }
   ],
   "source": [
    "s1 = {4,2,3,4,3,1,5}\n",
    "s2 = {55.5,55.5,123,\"Ram\"}\n",
    "print(s1,type(s1))\n",
    "print(*s2)"
   ]
  },
  {
   "cell_type": "code",
   "execution_count": 16,
   "metadata": {},
   "outputs": [
    {
     "name": "stdout",
     "output_type": "stream",
     "text": [
      "{1, 2, 4, 5, 6}\n"
     ]
    }
   ],
   "source": [
    "s1 = {4,2,3,4,3,1,5}\n",
    "s1.add(6)\n",
    "s1.discard(3)\n",
    "s1.issubset({1,2,3,4,5,6,7,8,9})\n",
    "print(s1)"
   ]
  },
  {
   "cell_type": "code",
   "execution_count": 18,
   "metadata": {},
   "outputs": [
    {
     "name": "stdout",
     "output_type": "stream",
     "text": [
      "{1, 2, 3, 4, 5, 6, 7, 8, 9, 10}\n",
      "set()\n",
      "{1, 2, 3, 4, 5}\n",
      "{1, 2, 3, 4, 5, 6, 7, 8, 9, 10}\n",
      "{6, 7, 8, 9, 10}\n"
     ]
    }
   ],
   "source": [
    "s1 =  {1,2,3,4,5}\n",
    "s2 = {6,7,8,9,10}\n",
    "print(s1 | s2)\n",
    "print(s1 & s2)\n",
    "print(s1 - s2)\n",
    "print(s2 ^ s1)\n",
    "print(s2 - s1)"
   ]
  },
  {
   "cell_type": "code",
   "execution_count": null,
   "metadata": {},
   "outputs": [],
   "source": [
    "# 1 5 10 20 40 80\n",
    "# 6 7 20 80 100\n",
    "# 3 4 15 20 30 70 80 120\n",
    "l1 = [1, 5, 10, 20, 40, 80]\n",
    "l2 = [6, 7, 20, 80, 100]\n",
    "l3 = [3, 4, 15, 20, 30, 70, 80, 120]\n",
    "s1 = set(l1)\n",
    "s2 = set(l2)\n",
    "s3 = set(l3)\n",
    "s4 = s1 & s2 & s3\n"
   ]
  },
  {
   "cell_type": "code",
   "execution_count": 26,
   "metadata": {},
   "outputs": [
    {
     "name": "stdout",
     "output_type": "stream",
     "text": [
      "The given string is a pangram\n"
     ]
    }
   ],
   "source": [
    "# a program to check whether a pangram or not\n",
    "str1 = 'The quick brown fox jumps over the lazy dog'\n",
    "str1 = str1.lower()\n",
    "str1 = str1.replace(' ', '')\n",
    "str1 = set(str1)\n",
    "if len(str1) == 26:\n",
    "    print('The given string is a pangram')\n",
    "else:\n",
    "    print('The given string is not a pangram')\n"
   ]
  },
  {
   "cell_type": "code",
   "execution_count": null,
   "metadata": {},
   "outputs": [],
   "source": [
    "tuple1 = (1, 2, 3, 4, 5)\n",
    "tuple2 = (6, 7, 8, 9, 10)\n",
    "tup3 = tuple1,tuple2\n",
    "print(tup3)"
   ]
  }
 ],
 "metadata": {
  "kernelspec": {
   "display_name": "Python 3",
   "language": "python",
   "name": "python3"
  },
  "language_info": {
   "codemirror_mode": {
    "name": "ipython",
    "version": 3
   },
   "file_extension": ".py",
   "mimetype": "text/x-python",
   "name": "python",
   "nbconvert_exporter": "python",
   "pygments_lexer": "ipython3",
   "version": "3.12.4"
  }
 },
 "nbformat": 4,
 "nbformat_minor": 2
}
